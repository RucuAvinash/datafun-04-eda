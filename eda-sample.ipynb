{
 "cells": [
  {
   "cell_type": "markdown",
   "id": "dd3e36ff",
   "metadata": {},
   "source": [
    "Title: Sample Dashboard\n",
    "Author: Rucmanidevi Sethu\n",
    "Date:9/15/2025"
   ]
  },
  {
   "cell_type": "code",
   "execution_count": null,
   "id": "8f49ce33",
   "metadata": {
    "vscode": {
     "languageId": "plaintext"
    }
   },
   "outputs": [],
   "source": [
    "# Imports still go at the top. This is a Python cell.\n",
    "import pandas as pd\n",
    "import matplotlib.pyplot as plt\n",
    "import time\n",
    "import seaborn as sns\n",
    "\n",
    "# Start time\n",
    "\n",
    "start_time = time.strftime(\"%Y-%m-%d %H:%M:%S\", time.localtime())\n",
    "print(f\"Process started at: {start_time}\")\n",
    "sns.set_theme(style=\"whitegrid\")"
   ]
  }
 ],
 "metadata": {
  "language_info": {
   "name": "python"
  }
 },
 "nbformat": 4,
 "nbformat_minor": 5
}
