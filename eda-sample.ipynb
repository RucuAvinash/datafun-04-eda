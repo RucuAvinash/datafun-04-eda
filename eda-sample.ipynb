{
 "cells": [
  {
   "cell_type": "markdown",
   "id": "dd3e36ff",
   "metadata": {},
   "source": [
    "**Title:** Sample Dashboard<br>\n",
    "**Author:** Rucmanidevi Sethu<br>\n",
    "**Date:** 9/15/2025"
   ]
  },
  {
   "cell_type": "code",
   "execution_count": 1,
   "id": "8f49ce33",
   "metadata": {},
   "outputs": [
    {
     "name": "stdout",
     "output_type": "stream",
     "text": [
      "Process started at: 2025-09-15 12:45:01\n"
     ]
    }
   ],
   "source": [
    "# Imports still go at the top. This is a Python cell.\n",
    "import pandas as pd\n",
    "import matplotlib.pyplot as plt\n",
    "import time\n",
    "import seaborn as sns\n",
    "\n",
    "# Start time\n",
    "\n",
    "start_time = time.strftime(\"%Y-%m-%d %H:%M:%S\", time.localtime())\n",
    "print(f\"Process started at: {start_time}\")\n",
    "sns.set_theme(style=\"whitegrid\")"
   ]
  }
 ],
 "metadata": {
  "kernelspec": {
   "display_name": ".venv",
   "language": "python",
   "name": "python3"
  },
  "language_info": {
   "codemirror_mode": {
    "name": "ipython",
    "version": 3
   },
   "file_extension": ".py",
   "mimetype": "text/x-python",
   "name": "python",
   "nbconvert_exporter": "python",
   "pygments_lexer": "ipython3",
   "version": "3.13.7"
  }
 },
 "nbformat": 4,
 "nbformat_minor": 5
}
