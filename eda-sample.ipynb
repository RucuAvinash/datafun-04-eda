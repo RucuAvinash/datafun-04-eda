{
 "cells": [
  {
   "cell_type": "markdown",
   "id": "dd3e36ff",
   "metadata": {},
   "source": [
    "**Title:** Sample Dashboard<br>\n",
    "**Author:** Rucmanidevi Sethu<br>\n",
    "**Date:** 9/15/2025"
   ]
  },
  {
   "cell_type": "code",
   "execution_count": 1,
   "id": "8f49ce33",
   "metadata": {},
   "outputs": [
    {
     "name": "stdout",
     "output_type": "stream",
     "text": [
      "Process started at: 2025-09-15 12:45:01\n"
     ]
    }
   ],
   "source": [
    "# Imports still go at the top. This is a Python cell.\n",
    "import pandas as pd\n",
    "import matplotlib.pyplot as plt\n",
    "import time\n",
    "import seaborn as sns\n",
    "\n",
    "# Start time\n",
    "\n",
    "start_time = time.strftime(\"%Y-%m-%d %H:%M:%S\", time.localtime())\n",
    "print(f\"Process started at: {start_time}\")\n",
    "sns.set_theme(style=\"whitegrid\")"
   ]
  },
  {
   "cell_type": "code",
   "execution_count": null,
   "id": "ae8337af",
   "metadata": {},
   "outputs": [
    {
     "name": "stdout",
     "output_type": "stream",
     "text": [
      "        Date Category  Sales\n",
      "0 2025-09-01        A    200\n",
      "1 2025-09-02        B    150\n",
      "2 2025-09-03        C    300\n",
      "3 2025-09-04        A    220\n",
      "4 2025-09-05        B    180\n",
      "5 2025-09-06        C    310\n",
      "6 2025-09-07        A    250\n",
      "7 2025-09-08        B    190\n",
      "8 2025-09-09        C    330\n",
      "9 2025-09-10        A    270\n"
     ]
    }
   ],
   "source": [
    "sales_data = {\n",
    "    \"Date\": pd.date_range(start=\"2025-09-01\", periods=10, freq='D'), #daily frequency\n",
    "    \"Category\": [\"A\", \"B\", \"C\", \"A\", \"B\", \"C\", \"A\", \"B\", \"C\", \"A\"],\n",
    "    \"Sales\": [200, 150, 300, 220, 180, 310, 250, 190, 330, 270]\n",
    "}\n",
    "\n",
    "df= pd.DataFrame(sales_data)\n",
    "print(df)\n",
    "#df.head() #show few rows\n"
   ]
  },
  {
   "cell_type": "code",
   "execution_count": null,
   "id": "c7ae1fc8",
   "metadata": {},
   "outputs": [],
   "source": [
    "print(\"Summary stats..\")\n",
    "print(df.groupby(\"Category\")[\"Sales\"].describe())"
   ]
  }
 ],
 "metadata": {
  "kernelspec": {
   "display_name": ".venv",
   "language": "python",
   "name": "python3"
  },
  "language_info": {
   "codemirror_mode": {
    "name": "ipython",
    "version": 3
   },
   "file_extension": ".py",
   "mimetype": "text/x-python",
   "name": "python",
   "nbconvert_exporter": "python",
   "pygments_lexer": "ipython3",
   "version": "3.13.7"
  }
 },
 "nbformat": 4,
 "nbformat_minor": 5
}
